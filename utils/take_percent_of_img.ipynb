{
 "cells": [
  {
   "cell_type": "code",
   "execution_count": 1,
   "metadata": {},
   "outputs": [],
   "source": [
    "import cv2"
   ]
  },
  {
   "cell_type": "code",
   "execution_count": 2,
   "metadata": {},
   "outputs": [],
   "source": [
    "def resize_img(img, percent):\n",
    "  print(\"img shape\",img.shape)\n",
    "  scale_percent = percent #percent of original size\n",
    "  width = int(img.shape[1] * scale_percent/100)\n",
    "  height = int(img.shape[0] * scale_percent/100)\n",
    "  dim = (width,height)\n",
    "  img = cv2.resize(img, dim, interpolation = cv2.INTER_AREA)\n",
    "  print(\"resized dimension\", img.shape)\n",
    "  return img"
   ]
  },
  {
   "cell_type": "code",
   "execution_count": null,
   "metadata": {},
   "outputs": [],
   "source": []
  }
 ],
 "metadata": {
  "kernelspec": {
   "display_name": "Python 3",
   "language": "python",
   "name": "python3"
  },
  "language_info": {
   "codemirror_mode": {
    "name": "ipython",
    "version": 3
   },
   "file_extension": ".py",
   "mimetype": "text/x-python",
   "name": "python",
   "nbconvert_exporter": "python",
   "pygments_lexer": "ipython3",
   "version": "3.7.4"
  }
 },
 "nbformat": 4,
 "nbformat_minor": 2
}
