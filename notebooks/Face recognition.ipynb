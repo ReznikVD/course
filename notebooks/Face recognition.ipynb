{
 "cells": [
  {
   "cell_type": "code",
   "execution_count": 1,
   "metadata": {},
   "outputs": [],
   "source": [
    "import face_recognition\n",
    "from sklearn import svm\n",
    "import os"
   ]
  },
  {
   "cell_type": "code",
   "execution_count": 2,
   "metadata": {
    "scrolled": true
   },
   "outputs": [],
   "source": [
    "# Training the SVC classifier\n",
    "\n",
    "# The training data would be all the face encodings from all the known images and the labels are their names\n",
    "encodings = []\n",
    "names = []\n",
    "\n",
    "# Training directory\n",
    "train_dir = os.listdir('dataset/')\n",
    "\n",
    "# Loop through each person in the training directory\n",
    "for person in train_dir:\n",
    "    pix = os.listdir(\"dataset/\" + person)\n",
    "\n",
    "    # Loop through each training image for the current person\n",
    "    for person_img in pix:\n",
    "        # Get the face encodings for the face in each image file\n",
    "        face = face_recognition.load_image_file(\"dataset/\" + person + \"/\" + person_img)\n",
    "        face_bounding_boxes = face_recognition.face_locations(face)\n",
    "\n",
    "        #If training image contains exactly one face\n",
    "        if len(face_bounding_boxes) == 1:\n",
    "            face_enc = face_recognition.face_encodings(face)[0]\n",
    "            # Add face encoding for current image with corresponding label (name) to the training data\n",
    "            encodings.append(face_enc)\n",
    "            names.append(person)\n",
    "        else:\n",
    "            print(person + \"/\" + person_img + \" was skipped and can't be used for training\")"
   ]
  },
  {
   "cell_type": "code",
   "execution_count": 3,
   "metadata": {},
   "outputs": [
    {
     "data": {
      "text/plain": [
       "SVC()"
      ]
     },
     "execution_count": 3,
     "metadata": {},
     "output_type": "execute_result"
    }
   ],
   "source": [
    "# Create and train the SVC classifier\n",
    "clf = svm.SVC(gamma='scale')\n",
    "clf.fit(encodings,names)"
   ]
  },
  {
   "cell_type": "code",
   "execution_count": 4,
   "metadata": {
    "scrolled": true
   },
   "outputs": [
    {
     "name": "stdout",
     "output_type": "stream",
     "text": [
      "Number of faces detected:  2\n"
     ]
    }
   ],
   "source": [
    "# Load the test image with unknown faces into a numpy array\n",
    "test_image = face_recognition.load_image_file('for test/004.jpg')\n",
    "\n",
    "# Find all the faces in the test image using the default HOG-based model\n",
    "face_locations = face_recognition.face_locations(test_image)\n",
    "no = len(face_locations)\n",
    "print(\"Number of faces detected: \", no)"
   ]
  },
  {
   "cell_type": "code",
   "execution_count": 5,
   "metadata": {},
   "outputs": [
    {
     "name": "stdout",
     "output_type": "stream",
     "text": [
      "Found:\n",
      "Jim\n",
      "Jeff\n"
     ]
    }
   ],
   "source": [
    "# Predict all the faces in the test image using the trained classifier\n",
    "print(\"Found:\")\n",
    "for i in range(no):\n",
    "    test_image_enc = face_recognition.face_encodings(test_image)[i]\n",
    "    name = clf.predict([test_image_enc])\n",
    "    print(*name)"
   ]
  },
  {
   "cell_type": "code",
   "execution_count": null,
   "metadata": {},
   "outputs": [],
   "source": []
  }
 ],
 "metadata": {
  "kernelspec": {
   "display_name": "Python 3",
   "language": "python",
   "name": "python3"
  },
  "language_info": {
   "codemirror_mode": {
    "name": "ipython",
    "version": 3
   },
   "file_extension": ".py",
   "mimetype": "text/x-python",
   "name": "python",
   "nbconvert_exporter": "python",
   "pygments_lexer": "ipython3",
   "version": "3.7.4"
  }
 },
 "nbformat": 4,
 "nbformat_minor": 2
}
