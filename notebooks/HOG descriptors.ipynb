{
 "cells": [
  {
   "cell_type": "code",
   "execution_count": 13,
   "metadata": {},
   "outputs": [],
   "source": [
    "import os\n",
    "import cv2\n",
    "import glob\n",
    "from skimage import feature\n",
    "import numpy as np"
   ]
  },
  {
   "cell_type": "code",
   "execution_count": 2,
   "metadata": {},
   "outputs": [],
   "source": [
    "samples = []\n",
    "labels = []  "
   ]
  },
  {
   "cell_type": "markdown",
   "metadata": {},
   "source": [
    "cv2.imshow('img',img)\n",
    "cv2.waitKey(0)  \n",
    "cv2.destroyAllWindows() "
   ]
  },
  {
   "cell_type": "markdown",
   "metadata": {},
   "source": [
    "### **get_positive_features**"
   ]
  },
  {
   "cell_type": "code",
   "execution_count": 3,
   "metadata": {},
   "outputs": [],
   "source": [
    "image_files=[f for f in os.listdir('train_non_face_scenes') if f.endswith('.jpg')]\n",
    "num_img = len(image_files)"
   ]
  },
  {
   "cell_type": "code",
   "execution_count": 4,
   "metadata": {},
   "outputs": [],
   "source": [
    "for i in range(num_img):\n",
    "    path='Caltech_CropFaces'+'/'+image_files[i]\n",
    "    img = cv2.imread(path)\n",
    "    hist = feature.hog(img, orientations=9, \n",
    "                    pixels_per_cell=(8, 8), cells_per_block=(2, 2), \n",
    "                    block_norm='L2-Hys', transform_sqrt=True)\n",
    "    samples.append(hist)\n",
    "    labels.append(1)\n"
   ]
  },
  {
   "cell_type": "code",
   "execution_count": 10,
   "metadata": {},
   "outputs": [],
   "source": [
    "image_files=[f for f in os.listdir('train_non_face_scenes') if f.endswith('.jpg')]\n",
    "num_img = len(image_files)"
   ]
  },
  {
   "cell_type": "code",
   "execution_count": 12,
   "metadata": {},
   "outputs": [],
   "source": [
    "for i in range(num_img):\n",
    "    path='train_non_face_scenes'+'/'+image_files[i]\n",
    "    img = cv2.imread(path)\n",
    "    img = cv2.cvtColor(img, cv2.COLOR_BGR2GRAY)\n",
    "    img = cv2.resize(img, (36,36))\n",
    "    hist = feature.hog(img, orientations=9, \n",
    "                    pixels_per_cell=(8, 8), cells_per_block=(2, 2), \n",
    "                    block_norm='L2-Hys', transform_sqrt=True)\n",
    "    samples.append(hist)\n",
    "    labels.append(0)"
   ]
  },
  {
   "cell_type": "code",
   "execution_count": 14,
   "metadata": {},
   "outputs": [],
   "source": [
    "samples = np.float32(samples)\n",
    "labels = np.array(labels)"
   ]
  },
  {
   "cell_type": "code",
   "execution_count": 15,
   "metadata": {},
   "outputs": [],
   "source": [
    "rand = np.random.RandomState(321)\n",
    "shuffle = rand.permutation(len(samples))\n",
    "samples = samples[shuffle]\n",
    "labels = labels[shuffle]   "
   ]
  },
  {
   "cell_type": "code",
   "execution_count": 16,
   "metadata": {},
   "outputs": [],
   "source": [
    "svm = cv2.ml.SVM_create()\n",
    "svm.setType(cv2.ml.SVM_C_SVC)\n",
    "svm.setKernel(cv2.ml.SVM_RBF) # cv2.ml.SVM_LINEAR\n",
    "# svm.setDegree(0.0)\n",
    "svm.setGamma(5.383)\n",
    "# svm.setCoef0(0.0)\n",
    "svm.setC(2.67)\n",
    "# svm.setNu(0.0)\n",
    "# svm.setP(0.0)\n",
    "# svm.setClassWeights(None)"
   ]
  },
  {
   "cell_type": "code",
   "execution_count": 17,
   "metadata": {},
   "outputs": [
    {
     "data": {
      "text/plain": [
       "True"
      ]
     },
     "execution_count": 17,
     "metadata": {},
     "output_type": "execute_result"
    }
   ],
   "source": [
    "svm.train(samples, cv2.ml.ROW_SAMPLE, labels)"
   ]
  },
  {
   "cell_type": "code",
   "execution_count": 21,
   "metadata": {},
   "outputs": [
    {
     "data": {
      "text/plain": [
       "<CascadeClassifier 0000010E94054350>"
      ]
     },
     "execution_count": 21,
     "metadata": {},
     "output_type": "execute_result"
    }
   ],
   "source": [
    "cv2.CascadeClassifier()"
   ]
  },
  {
   "cell_type": "code",
   "execution_count": null,
   "metadata": {},
   "outputs": [],
   "source": []
  },
  {
   "cell_type": "code",
   "execution_count": null,
   "metadata": {},
   "outputs": [],
   "source": []
  }
 ],
 "metadata": {
  "kernelspec": {
   "display_name": "Python 3",
   "language": "python",
   "name": "python3"
  },
  "language_info": {
   "codemirror_mode": {
    "name": "ipython",
    "version": 3
   },
   "file_extension": ".py",
   "mimetype": "text/x-python",
   "name": "python",
   "nbconvert_exporter": "python",
   "pygments_lexer": "ipython3",
   "version": "3.7.4"
  }
 },
 "nbformat": 4,
 "nbformat_minor": 2
}
